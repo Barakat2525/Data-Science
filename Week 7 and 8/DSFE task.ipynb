{
 "nbformat": 4,
 "nbformat_minor": 0,
 "metadata": {
  "kernelspec": {
   "display_name": "Python 3",
   "language": "python",
   "name": "python3"
  },
  "language_info": {
   "codemirror_mode": {
    "name": "ipython",
    "version": 3
   },
   "file_extension": ".py",
   "mimetype": "text/x-python",
   "name": "python",
   "nbconvert_exporter": "python",
   "pygments_lexer": "ipython3",
   "version": "3.7.6-final"
  },
  "colab": {
   "name": "Copy of Tinka - Python Coding Challenge (Type 2) - Eliel Godsent",
   "provenance": [],
   "collapsed_sections": []
  }
 },
 "cells": [
  {
   "cell_type": "code",
   "metadata": {
    "id": "kolXeV5rVuRT",
    "colab": {
     "base_uri": "https://localhost:8080/",
     "height": 423
    },
    "outputId": "58e4a2e9-a37f-46f5-e28f-923130b0607e"
   },
   "source": [
    "import pandas as pd\n",
    "import uuid\n",
    "import random\n",
    "from datetime import timedelta\n",
    "\n",
    "open_orders = dict()\n",
    "event_types = ['order_created', 'order_fulfilled']\n",
    "periods = [ts for ts in pd.date_range(start='1/1/2008', end='31/12/2018') if random.random()>0.8]\n",
    "\n",
    "def new_random_order():\n",
    "    return {\n",
    "        'order_id': uuid.uuid4(),\n",
    "        'amount': random.random() * 1000,\n",
    "        'created_at': random.choice(periods)\n",
    "    } \n",
    "\n",
    "def new_random_event():\n",
    "    event_type = random.choice(event_types)\n",
    "    order_info = new_random_order()\n",
    "    if event_type=='order_created':\n",
    "        open_orders[order_info['order_id']] = order_info\n",
    "    else:\n",
    "        if len(open_orders):\n",
    "            order_id = random.choice(list(open_orders.keys()))\n",
    "            order_info = open_orders[order_id]\n",
    "            order_info['created_at'] = order_info['created_at'] + timedelta(random.randrange(0,180))\n",
    "        open_orders.pop(order_info['order_id'], None)\n",
    "        \n",
    "    return {\n",
    "        \"event_id\": uuid.uuid4(),\n",
    "        \"event_type\": event_type,\n",
    "        \"order_id\": order_info['order_id'],\n",
    "        \"amount\": order_info['amount'],\n",
    "        \"created_at\": order_info['created_at']\n",
    "    }\n",
    "\n",
    "df = pd.DataFrame([new_random_event() for _ in range(0, 100)])\n",
    "df"
   ],
   "execution_count": 1,
   "outputs": [
    {
     "data": {
      "text/plain": "                                event_id       event_type  \\\n0   394123dc-4542-41d7-ab85-3102a3c03435  order_fulfilled   \n1   95c1ebe6-5355-47ec-b166-eebbcb512712    order_created   \n2   162ac992-e9a0-43a7-a33c-158278f4bd7c    order_created   \n3   be27464b-c1c8-4f83-8a51-324d415971fe    order_created   \n4   4c1062e0-8f03-4b2b-811b-85db6cddfa30    order_created   \n..                                   ...              ...   \n95  0eca44fa-1a5c-4e56-b8a9-804271eab990    order_created   \n96  e1f438b9-d41d-4451-a629-b7005e9bcc73    order_created   \n97  5e88ef0a-ff8f-4709-be80-ed2e18dea18e  order_fulfilled   \n98  2ba42782-0f8b-42a4-ba03-f8e56b6c2017  order_fulfilled   \n99  82b4f11b-eef1-47ed-b6c6-41e6ed56b02a    order_created   \n\n                                order_id      amount created_at  \n0   d3777f14-a685-4487-8ddf-7f3c4f83011d  457.403362 2010-04-03  \n1   7529c3cb-f2ad-4ec3-8140-97e3f6c28dfe  285.558574 2014-05-13  \n2   9d1f43d4-967b-4d31-8e00-9e95a97d8447  192.682809 2014-03-31  \n3   eee828d1-b1e4-4e32-aacd-78137c48898c  705.036549 2013-06-28  \n4   7c54cf96-e57e-4b36-a52f-b6efe615d4d6  443.798985 2018-10-22  \n..                                   ...         ...        ...  \n95  219d9f34-39f1-46b5-bce5-af50427ceda1  578.809845 2013-04-30  \n96  274b0b17-b05b-4e5d-b3cf-2427560501c6  484.092408 2018-01-01  \n97  a6fc621a-7274-4768-9a8e-89a72f8ba436  279.313558 2008-07-29  \n98  280e7ba2-41fc-4bf0-ac0e-d02a5daaf052  964.389457 2015-01-06  \n99  73f7584d-fc03-485f-9cf2-10da3a4201d7  640.279463 2014-05-16  \n\n[100 rows x 5 columns]",
      "text/html": "<div>\n<style scoped>\n    .dataframe tbody tr th:only-of-type {\n        vertical-align: middle;\n    }\n\n    .dataframe tbody tr th {\n        vertical-align: top;\n    }\n\n    .dataframe thead th {\n        text-align: right;\n    }\n</style>\n<table border=\"1\" class=\"dataframe\">\n  <thead>\n    <tr style=\"text-align: right;\">\n      <th></th>\n      <th>event_id</th>\n      <th>event_type</th>\n      <th>order_id</th>\n      <th>amount</th>\n      <th>created_at</th>\n    </tr>\n  </thead>\n  <tbody>\n    <tr>\n      <th>0</th>\n      <td>394123dc-4542-41d7-ab85-3102a3c03435</td>\n      <td>order_fulfilled</td>\n      <td>d3777f14-a685-4487-8ddf-7f3c4f83011d</td>\n      <td>457.403362</td>\n      <td>2010-04-03</td>\n    </tr>\n    <tr>\n      <th>1</th>\n      <td>95c1ebe6-5355-47ec-b166-eebbcb512712</td>\n      <td>order_created</td>\n      <td>7529c3cb-f2ad-4ec3-8140-97e3f6c28dfe</td>\n      <td>285.558574</td>\n      <td>2014-05-13</td>\n    </tr>\n    <tr>\n      <th>2</th>\n      <td>162ac992-e9a0-43a7-a33c-158278f4bd7c</td>\n      <td>order_created</td>\n      <td>9d1f43d4-967b-4d31-8e00-9e95a97d8447</td>\n      <td>192.682809</td>\n      <td>2014-03-31</td>\n    </tr>\n    <tr>\n      <th>3</th>\n      <td>be27464b-c1c8-4f83-8a51-324d415971fe</td>\n      <td>order_created</td>\n      <td>eee828d1-b1e4-4e32-aacd-78137c48898c</td>\n      <td>705.036549</td>\n      <td>2013-06-28</td>\n    </tr>\n    <tr>\n      <th>4</th>\n      <td>4c1062e0-8f03-4b2b-811b-85db6cddfa30</td>\n      <td>order_created</td>\n      <td>7c54cf96-e57e-4b36-a52f-b6efe615d4d6</td>\n      <td>443.798985</td>\n      <td>2018-10-22</td>\n    </tr>\n    <tr>\n      <th>...</th>\n      <td>...</td>\n      <td>...</td>\n      <td>...</td>\n      <td>...</td>\n      <td>...</td>\n    </tr>\n    <tr>\n      <th>95</th>\n      <td>0eca44fa-1a5c-4e56-b8a9-804271eab990</td>\n      <td>order_created</td>\n      <td>219d9f34-39f1-46b5-bce5-af50427ceda1</td>\n      <td>578.809845</td>\n      <td>2013-04-30</td>\n    </tr>\n    <tr>\n      <th>96</th>\n      <td>e1f438b9-d41d-4451-a629-b7005e9bcc73</td>\n      <td>order_created</td>\n      <td>274b0b17-b05b-4e5d-b3cf-2427560501c6</td>\n      <td>484.092408</td>\n      <td>2018-01-01</td>\n    </tr>\n    <tr>\n      <th>97</th>\n      <td>5e88ef0a-ff8f-4709-be80-ed2e18dea18e</td>\n      <td>order_fulfilled</td>\n      <td>a6fc621a-7274-4768-9a8e-89a72f8ba436</td>\n      <td>279.313558</td>\n      <td>2008-07-29</td>\n    </tr>\n    <tr>\n      <th>98</th>\n      <td>2ba42782-0f8b-42a4-ba03-f8e56b6c2017</td>\n      <td>order_fulfilled</td>\n      <td>280e7ba2-41fc-4bf0-ac0e-d02a5daaf052</td>\n      <td>964.389457</td>\n      <td>2015-01-06</td>\n    </tr>\n    <tr>\n      <th>99</th>\n      <td>82b4f11b-eef1-47ed-b6c6-41e6ed56b02a</td>\n      <td>order_created</td>\n      <td>73f7584d-fc03-485f-9cf2-10da3a4201d7</td>\n      <td>640.279463</td>\n      <td>2014-05-16</td>\n    </tr>\n  </tbody>\n</table>\n<p>100 rows × 5 columns</p>\n</div>"
     },
     "execution_count": 1,
     "metadata": {},
     "output_type": "execute_result"
    }
   ]
  },
  {
   "cell_type": "markdown",
   "metadata": {
    "id": "rzHiz3vAC4e1"
   },
   "source": [
    "# Q1. List all events with \"event_type\" as \"order_created\" where \"order_fulfilled\" is at least 30 days later than the \"order_created\" (dates are based on \"created_at\")."
   ]
  },
  {
   "cell_type": "code",
   "metadata": {
    "id": "yjRJsJmEVuRY"
   },
   "source": [
    "# Sample result:\n",
    "    \n",
    "# result = [\n",
    "#     {order_id: \"\",\n",
    "#      order_date: \"...\",\n",
    "#      fulfilled_date: \"...\",\n",
    "#      delay: 30\n",
    "#     },\n",
    "#     ...\n",
    "# ]\n",
    "# Your code here\n",
    "\n",
    "'''\n",
    "Hint:\n",
    "\n",
    "Filter event type for order created, and order fulfilled then, store them in different dataframes\n",
    "join the two dataframes together\n",
    "\n",
    "take the difference of the two datetimes and store in a new column\n",
    "\n",
    "filter for dates < 30, convert the dataframe to a dictionary\n",
    "\n",
    "Q2 should be easy for you\n",
    "'''"
   ],
   "execution_count": 1,
   "outputs": [
    {
     "data": {
      "text/plain": "'\\nHint:\\n\\nFilter event type for order created, and order fulfilled then, store them in different dataframes\\njoin the two dataframes together\\n\\ntake the difference of the two datetimes and store in a new column\\n\\nfilter for dates < 30, convert the dataframe to a dictionary\\n\\nQ2 should be easy for you\\n'"
     },
     "execution_count": 1,
     "metadata": {},
     "output_type": "execute_result"
    }
   ]
  },
  {
   "cell_type": "markdown",
   "metadata": {
    "id": "mhm87wXbDK-L"
   },
   "source": [
    "# Q2. Determine the average, minimum, maximum and count delay per month per calendar year where the delay is greater than 30 days."
   ]
  },
  {
   "cell_type": "code",
   "metadata": {
    "id": "gqvxLYRHVuRd",
    "colab": {
     "base_uri": "https://localhost:8080/",
     "height": 1000
    },
    "outputId": "4fa392a9-7ddd-44e6-b863-f71872892dfc",
    "pycharm": {
     "name": "#%%\n"
    }
   },
   "source": [
    "# Sample Output\n",
    "\n",
    "# fulfilled_year  fulfilled_month     mean         min          max       count\n",
    "# 2008            10                  73.0         70.0         76.0      2\n",
    "\n",
    "# Your code here"
   ],
   "execution_count": 39,
   "outputs": []
  }
 ]
}